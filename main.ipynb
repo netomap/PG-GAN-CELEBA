{
 "cells": [
  {
   "cell_type": "code",
   "execution_count": 1,
   "metadata": {},
   "outputs": [],
   "source": [
    "import torch\n",
    "from torch import nn\n",
    "from torchvision import transforms\n",
    "from torch.utils.data import DataLoader\n",
    "import utils as u\n",
    "from models import Generator, Discriminator\n",
    "import matplotlib.pyplot as plt\n",
    "from tqdm import tqdm\n",
    "from IPython.display import clear_output\n",
    "from torch.utils.tensorboard.writer import SummaryWriter"
   ]
  },
  {
   "cell_type": "markdown",
   "metadata": {},
   "source": [
    "# VARIÁVEIS"
   ]
  },
  {
   "cell_type": "code",
   "execution_count": 2,
   "metadata": {},
   "outputs": [
    {
     "name": "stdout",
     "output_type": "stream",
     "text": [
      "NOISE_DIM=100, N_CAMADAS=2, IMG_SIZE=16\n",
      "CPU times: user 431 µs, sys: 77 µs, total: 508 µs\n",
      "Wall time: 520 µs\n"
     ]
    }
   ],
   "source": [
    "%%time\n",
    "\n",
    "NOISE_DIM = 100\n",
    "N_CAMADAS = 2  # ASSIM, O TAMANHO DA IMAGEM SERÁ N_CAMADAS*8. [1->8x8, 2->16x16, 3->32x32, 4->64x64, 5->128x128, 6->256x256]\n",
    "IMG_SIZE = 4 * (2**N_CAMADAS)\n",
    "IMG_CHANNELS = 3\n",
    "LEARNING_RATE = 1e-4\n",
    "BATCH_SIZE = 128\n",
    "MODELS_DIR = './models'\n",
    "IMGS_DIR = './imgs/celeba'\n",
    "TAXA_TREINAMENTO_DISCRIMINATOR = 5  # ou seja, o discriminator treina 5 vezes mais que o generator\n",
    "LAMBDA_GP = 10 # TAXA DO GRADIENT PENALTY\n",
    "\n",
    "def criar_transformer(img_size_):\n",
    "    return  transforms.Compose([\n",
    "        transforms.ToTensor(),\n",
    "        transforms.Resize((img_size_, img_size_)),\n",
    "        transforms.RandomHorizontalFlip(p=0.5),\n",
    "        transforms.Normalize(mean=(.5, .5, .5), std=(.5, .5, .5))\n",
    "    ])\n",
    "transformer = criar_transformer(img_size_=16)\n",
    "\n",
    "inv_transformer = transforms.Compose([\n",
    "    transforms.Normalize(mean=(-1., -1., -1.), std=(1., 1., 1.)),\n",
    "    transforms.ToPILImage(),\n",
    "])\n",
    "\n",
    "print (f'{NOISE_DIM=}, {N_CAMADAS=}, {IMG_SIZE=}')"
   ]
  },
  {
   "cell_type": "code",
   "execution_count": 3,
   "metadata": {},
   "outputs": [],
   "source": [
    "writer = SummaryWriter('./logs/pg-wgan-celeba-2-camadas')\n",
    "writer.add_text('mensagem inicial', 'Continuação do treinamento do PG-GAN com duas camadas iniciais + a camada final.Assim, o tamanho da imagem será de 16x16 pixels.')"
   ]
  },
  {
   "cell_type": "markdown",
   "metadata": {},
   "source": [
    "# Inspeção de algumas imagens"
   ]
  },
  {
   "cell_type": "code",
   "execution_count": 4,
   "metadata": {},
   "outputs": [
    {
     "name": "stdout",
     "output_type": "stream",
     "text": [
      "len(dataset)=202599\n"
     ]
    },
    {
     "data": {
      "image/png": "[encoded data removed]",
      "text/plain": [
       "<Figure size 1440x144 with 1 Axes>"
      ]
     },
     "metadata": {
      "needs_background": "light"
     },
     "output_type": "display_data"
    },
    {
     "name": "stdout",
     "output_type": "stream",
     "text": [
      "CPU times: user 1.32 s, sys: 116 ms, total: 1.44 s\n",
      "Wall time: 1.47 s\n"
     ]
    }
   ],
   "source": [
    "%%time\n",
    "\n",
    "dataset = u.Custom_Dataset(IMGS_DIR, '*.jpg', transformer, inv_transformer)\n",
    "print (f'{len(dataset)=}')\n",
    "dataloader = DataLoader(dataset, batch_size=8, shuffle=True)\n",
    "\n",
    "grid_np = dataset.criar_grid_imagens_aleatorias(n_images=8, tipo='np')\n",
    "plt.figure(figsize=(20, 2))\n",
    "plt.imshow(grid_np)\n",
    "plt.axis('off')\n",
    "plt.show()"
   ]
  },
  {
   "cell_type": "markdown",
   "metadata": {},
   "source": [
    "# Modelos discriminator e generator"
   ]
  },
  {
   "cell_type": "code",
   "execution_count": 5,
   "metadata": {},
   "outputs": [
    {
     "name": "stdout",
     "output_type": "stream",
     "text": [
      "noise.shape=torch.Size([3, 100, 1, 1])\n",
      "output_generator.shape=torch.Size([3, 3, 16, 16])\n",
      "output_discriminator.shape=torch.Size([3, 1, 1, 1])\n"
     ]
    }
   ],
   "source": [
    "discriminator = Discriminator(img_channels=IMG_CHANNELS, n_camadas=N_CAMADAS, cfl=128)\n",
    "generator = Generator(img_channels=IMG_CHANNELS, noise_dim=NOISE_DIM, n_camadas=N_CAMADAS, cfl=512)\n",
    "\n",
    "# Testando os modelos\n",
    "noise = u.get_noise(3, NOISE_DIM)\n",
    "output_generator = generator(noise)\n",
    "output_discriminator = discriminator(output_generator)\n",
    "print (f'{noise.shape=}')\n",
    "print (f'{output_generator.shape=}')\n",
    "print (f'{output_discriminator.shape=}')"
   ]
  },
  {
   "cell_type": "markdown",
   "metadata": {},
   "source": [
    "# Funções úteis para o treinamento"
   ]
  },
  {
   "cell_type": "code",
   "execution_count": 6,
   "metadata": {},
   "outputs": [],
   "source": [
    "def gradient_penalty(model_d, real_imgs, fake_imgs, device_):\n",
    "\n",
    "    b_size, c, h, w = real_imgs.shape\n",
    "    alpha = torch.rand((b_size, 1, 1, 1)).repeat(1, c, h, w).to(device_)\n",
    "    # tenta criar um tensor (b,c,h,w) onde cada elemento b (de dim c,h,w) possui um número aleatório em todas as posições\n",
    "\n",
    "    interpolated_imgs = real_imgs * alpha + fake_imgs * (1-alpha)\n",
    "\n",
    "    # Cálculo score\n",
    "    mixed_score = model_d(interpolated_imgs)\n",
    "\n",
    "    gradient = torch.autograd.grad(\n",
    "        inputs = interpolated_imgs,\n",
    "        outputs = mixed_score,\n",
    "        grad_outputs = torch.ones_like(mixed_score),\n",
    "        create_graph = True,\n",
    "        retain_graph = True\n",
    "    )[0]\n",
    "    \n",
    "    gradient = gradient.view(gradient.shape[0], -1)\n",
    "    gradient_norm = gradient.norm(2, dim=1)\n",
    "    penalty = torch.mean((gradient_norm-1) ** 2)\n",
    "    \n",
    "    return penalty\n",
    "\n",
    "def imprimir_imagem_checkpoint():\n",
    "    random_noise = u.get_noise(8, NOISE_DIM, device)\n",
    "    random_img = generator(random_noise)\n",
    "    img_np = u.criar_grid(random_img, nrow=8, inv_transformer=inv_transformer, tipo='np')\n",
    "    plt.figure(figsize=(20, 4))\n",
    "    plt.imshow(img_np)\n",
    "    plt.axis('off')\n",
    "    plt.show()"
   ]
  },
  {
   "cell_type": "markdown",
   "metadata": {},
   "source": [
    "# Preparação para treinamento"
   ]
  },
  {
   "cell_type": "code",
   "execution_count": 8,
   "metadata": {},
   "outputs": [
    {
     "name": "stdout",
     "output_type": "stream",
     "text": [
      "Importando modelo discriminator...\n",
      "cfl=128, img_channels=3, tempo='26/02/2022, 23:07'\n",
      "primeira <All keys matched successfully>\n",
      "segunda <All keys matched successfully>\n",
      "ultima <All keys matched successfully>\n",
      "Importando modelo generator...\n",
      "noise_dim=100, cfl=512, img_channels=3, tempo='26/02/2022, 23:07'\n",
      "primeira <All keys matched successfully>\n",
      "segunda <All keys matched successfully>\n",
      "ultima <All keys matched successfully>\n",
      "Treinamento com N_CAMADAS=2 e tamanho das imagens IMG_SIZE=16\n",
      "Transformers criados.\n",
      "device=device(type='cuda', index=0)\n",
      "len(dataset)=202599, BATCH_SIZE=128, len(dataloader)=1583\n",
      "ok\n"
     ]
    }
   ],
   "source": [
    "discriminator = Discriminator(img_channels=3, n_camadas=N_CAMADAS, cfl=128)\n",
    "generator = Generator(img_channels=3, noise_dim=NOISE_DIM, n_camadas=N_CAMADAS, cfl=512)\n",
    "\n",
    "print ('Importando modelo discriminator...')\n",
    "discriminator.load_checkpoint('./models/Discriminator_2_layer.pt')\n",
    "\n",
    "print ('Importando modelo generator...')\n",
    "generator.load_checkpoint('./models/Generator_2_layer.pt')\n",
    "\n",
    "noise = u.get_noise(1, NOISE_DIM)\n",
    "output_generator = generator(noise)\n",
    "IMG_SIZE = output_generator.shape[-1]\n",
    "\n",
    "print (f'Treinamento com {N_CAMADAS=} e tamanho das imagens {IMG_SIZE=}')\n",
    "transformer = criar_transformer(img_size_=IMG_SIZE)\n",
    "print (f'Transformers criados.')\n",
    "\n",
    "device = torch.device('cuda:0' if torch.cuda.is_available() else 'cpu')\n",
    "print (f'{device=}')\n",
    "\n",
    "discriminator.to(device)\n",
    "generator.to(device)\n",
    "\n",
    "optim_generator = torch.optim.Adam(generator.parameters(), lr=LEARNING_RATE, betas=(0., 0.9))\n",
    "optim_discriminator = torch.optim.Adam(discriminator.parameters(), lr=LEARNING_RATE, betas=(0., 0.9))\n",
    "\n",
    "dataset = u.Custom_Dataset(IMGS_DIR, pattern='*.jpg', transformer=transformer, inv_transformer=inv_transformer)\n",
    "dataloader = DataLoader(dataset, batch_size=BATCH_SIZE, shuffle=True)\n",
    "print (f'{len(dataset)=}, {BATCH_SIZE=}, {len(dataloader)=}')\n",
    "\n",
    "print (f'ok')"
   ]
  },
  {
   "cell_type": "markdown",
   "metadata": {},
   "source": [
    "# Treinamento"
   ]
  },
  {
   "cell_type": "code",
   "execution_count": null,
   "metadata": {},
   "outputs": [
    {
     "data": {
      "image/png": "[encoded data removed]",
      "text/plain": [
       "<Figure size 1440x288 with 1 Axes>"
      ]
     },
     "metadata": {
      "needs_background": "light"
     },
     "output_type": "display_data"
    },
    {
     "name": "stdout",
     "output_type": "stream",
     "text": [
      "epoch=26\n"
     ]
    },
    {
     "name": "stderr",
     "output_type": "stream",
     "text": [
      " 66%|██████▌   | 1037/1583 [05:39<03:01,  3.00it/s]"
     ]
    }
   ],
   "source": [
    "generator.train()\n",
    "discriminator.train()\n",
    "\n",
    "for epoch in range(100):\n",
    "\n",
    "    clear_output(wait=True)\n",
    "\n",
    "    imprimir_imagem_checkpoint()\n",
    "    \n",
    "    print (f'{epoch=}')\n",
    "\n",
    "    for real_imgs in tqdm(dataloader):\n",
    "        real_imgs = real_imgs.to(device)\n",
    "        b_size = len(real_imgs)\n",
    "\n",
    "        # Treinando o discriminator\n",
    "        for _ in range(TAXA_TREINAMENTO_DISCRIMINATOR):\n",
    "            noise = u.get_noise(b_size, NOISE_DIM, device)\n",
    "            fake_imgs = generator(noise)\n",
    "\n",
    "            output_real = discriminator(real_imgs)\n",
    "            output_fake = discriminator(fake_imgs)\n",
    "\n",
    "            # Cálculo do Gradient-penalty\n",
    "            gp = gradient_penalty(discriminator, real_imgs, fake_imgs, device)\n",
    "            loss_discriminator = -(torch.mean(output_real.view(-1)) - torch.mean(output_fake.view(-1))) + LAMBDA_GP*gp\n",
    "            discriminator.zero_grad()\n",
    "            loss_discriminator.backward(retain_graph=True)\n",
    "            optim_discriminator.step()\n",
    "        \n",
    "        # Treinando o generator\n",
    "        output_fake_for_generator = discriminator(fake_imgs)\n",
    "        loss_generator = -torch.mean(output_fake_for_generator.view(-1))\n",
    "        generator.zero_grad()\n",
    "        loss_generator.backward()\n",
    "        optim_generator.step()\n",
    "\n",
    "    # Levando as variáveis para o tensorboard\n",
    "    writer.add_scalar('loss_discriminator', loss_discriminator.item(), epoch)\n",
    "    writer.add_scalar('loss_generator', loss_generator.item(), epoch)\n",
    "    \n",
    "    if (epoch % 2 == 0):\n",
    "        discriminator.save(epoch)\n",
    "        generator.save(epoch)"
   ]
  },
  {
   "cell_type": "code",
   "execution_count": null,
   "metadata": {},
   "outputs": [],
   "source": []
  }
 ],
 "metadata": {
  "interpreter": {
   "hash": "aa39838d5afd7d94b7544cb5e5351cace91d1e0eb74b6451fdb6f11f3a068bed"
  },
  "kernelspec": {
   "display_name": "principal:Python",
   "language": "python",
   "name": "conda-env-principal-py"
  },
  "language_info": {
   "codemirror_mode": {
    "name": "ipython",
    "version": 3
   },
   "file_extension": ".py",
   "mimetype": "text/x-python",
   "name": "python",
   "nbconvert_exporter": "python",
   "pygments_lexer": "ipython3",
   "version": "3.9.10"
  }
 },
 "nbformat": 4,
 "nbformat_minor": 4
}
